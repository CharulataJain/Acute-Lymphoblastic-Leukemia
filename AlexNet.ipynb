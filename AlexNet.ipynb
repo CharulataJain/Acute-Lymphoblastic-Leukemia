{
 "cells": [
  {
   "cell_type": "code",
   "execution_count": 1,
   "metadata": {},
   "outputs": [
    {
     "name": "stderr",
     "output_type": "stream",
     "text": [
      "Matplotlib is building the font cache; this may take a moment.\n"
     ]
    }
   ],
   "source": [
    "%matplotlib inline\n",
    "import os\n",
    "import struct\n",
    "import torch\n",
    "from PIL import Image\n",
    "import matplotlib.pyplot as plt\n",
    "import numpy as np\n",
    "import torchvision\n",
    "from torch.autograd import Variable\n",
    "from torch.utils.data import TensorDataset,DataLoader\n",
    "from torchvision import models\n",
    "import torch.nn as nn\n",
    "import torch.nn.functional as F\n",
    "import torch.optim as optim\n",
    "import copy\n",
    "import time"
   ]
  },
  {
   "cell_type": "code",
   "execution_count": 2,
   "metadata": {},
   "outputs": [],
   "source": [
    "Datapath = 'Data/ALL_IDB2/img/'\n",
    "listing = os.listdir(Datapath)"
   ]
  },
  {
   "cell_type": "code",
   "execution_count": 3,
   "metadata": {},
   "outputs": [],
   "source": [
    "# ALL_IDB2 dataset has 260 images in total\n",
    "TrainImages = torch.FloatTensor(200,3,224,224)\n",
    "TrainLabels = torch.LongTensor(200)\n",
    "TestImages = torch.FloatTensor(60,3,224,224)\n",
    "TestLabels = torch.LongTensor(60)\n",
    "\n",
    "# First 200 images are used for training and the remaining 60 for testing\n",
    "img_no = 0\n",
    "for file in listing:\n",
    "    im=Image.open(Datapath + file)\n",
    "    im = im.resize((224,224))\n",
    "    im = np.array(im)   \n",
    "    if img_no < 200:\n",
    "        TrainImages[img_no] = torch.from_numpy(im).transpose(0,2).unsqueeze(0)\n",
    "        TrainLabels[img_no] = int(listing[img_no][6:7])\n",
    "    else:\n",
    "        TestImages[img_no - 200] = torch.from_numpy(im).transpose(0,2).unsqueeze(0)\n",
    "        TestLabels[img_no - 200] = int(listing[img_no][6:7])\n",
    "    img_no = img_no + 1"
   ]
  },
  {
   "cell_type": "code",
   "execution_count": 4,
   "metadata": {},
   "outputs": [
    {
     "name": "stdout",
     "output_type": "stream",
     "text": [
      "torch.Size([200, 3, 224, 224])\n",
      "torch.Size([200])\n",
      "torch.Size([60, 3, 224, 224])\n",
      "torch.Size([60])\n"
     ]
    }
   ],
   "source": [
    "print(TrainImages.size())\n",
    "print(TrainLabels.size())\n",
    "print(TestImages.size())\n",
    "print(TestLabels.size())"
   ]
  },
  {
   "cell_type": "code",
   "execution_count": 5,
   "metadata": {},
   "outputs": [],
   "source": [
    "# Creating pytorch dataset\n",
    "trainDataset = TensorDataset(TrainImages, TrainLabels)\n",
    "testDataset = TensorDataset(TestImages, TestLabels)\n",
    "# Creating dataloader\n",
    "BatchSize = 32\n",
    "trainLoader = DataLoader(trainDataset, batch_size=BatchSize, shuffle=True,num_workers=4, pin_memory=True)\n",
    "testLoader = DataLoader(testDataset, batch_size=BatchSize, shuffle=True,num_workers=4, pin_memory=True)"
   ]
  },
  {
   "cell_type": "code",
   "execution_count": 6,
   "metadata": {},
   "outputs": [
    {
     "name": "stdout",
     "output_type": "stream",
     "text": [
      "GPU NOT AVAILABLE\n"
     ]
    },
    {
     "name": "stderr",
     "output_type": "stream",
     "text": [
      "C:\\Users\\charu\\anaconda3\\envs\\env_pytorch\\lib\\site-packages\\torch\\cuda\\__init__.py:52: UserWarning: CUDA initialization: Found no NVIDIA driver on your system. Please check that you have an NVIDIA GPU and installed a driver from http://www.nvidia.com/Download/index.aspx (Triggered internally at  ..\\c10\\cuda\\CUDAFunctions.cpp:100.)\n",
      "  return torch._C._cuda_getDeviceCount() > 0\n"
     ]
    }
   ],
   "source": [
    "# Check availability of GPU\n",
    "use_gpu = torch.cuda.is_available()\n",
    "if use_gpu:\n",
    "    print('GPU is available!')\n",
    "else:\n",
    "    print('GPU NOT AVAILABLE')\n",
    "    use_gpu = False"
   ]
  },
  {
   "cell_type": "code",
   "execution_count": 7,
   "metadata": {},
   "outputs": [
    {
     "name": "stderr",
     "output_type": "stream",
     "text": [
      "Downloading: \"https://download.pytorch.org/models/alexnet-owt-4df8aa71.pth\" to C:\\Users\\charu/.cache\\torch\\hub\\checkpoints\\alexnet-owt-4df8aa71.pth\n",
      "100.0%\n"
     ]
    },
    {
     "name": "stdout",
     "output_type": "stream",
     "text": [
      "AlexNet(\n",
      "  (features): Sequential(\n",
      "    (0): Conv2d(3, 64, kernel_size=(11, 11), stride=(4, 4), padding=(2, 2))\n",
      "    (1): ReLU(inplace=True)\n",
      "    (2): MaxPool2d(kernel_size=3, stride=2, padding=0, dilation=1, ceil_mode=False)\n",
      "    (3): Conv2d(64, 192, kernel_size=(5, 5), stride=(1, 1), padding=(2, 2))\n",
      "    (4): ReLU(inplace=True)\n",
      "    (5): MaxPool2d(kernel_size=3, stride=2, padding=0, dilation=1, ceil_mode=False)\n",
      "    (6): Conv2d(192, 384, kernel_size=(3, 3), stride=(1, 1), padding=(1, 1))\n",
      "    (7): ReLU(inplace=True)\n",
      "    (8): Conv2d(384, 256, kernel_size=(3, 3), stride=(1, 1), padding=(1, 1))\n",
      "    (9): ReLU(inplace=True)\n",
      "    (10): Conv2d(256, 256, kernel_size=(3, 3), stride=(1, 1), padding=(1, 1))\n",
      "    (11): ReLU(inplace=True)\n",
      "    (12): MaxPool2d(kernel_size=3, stride=2, padding=0, dilation=1, ceil_mode=False)\n",
      "  )\n",
      "  (avgpool): AdaptiveAvgPool2d(output_size=(6, 6))\n",
      "  (classifier): Sequential(\n",
      "    (0): Dropout(p=0.5, inplace=False)\n",
      "    (1): Linear(in_features=9216, out_features=4096, bias=True)\n",
      "    (2): ReLU(inplace=True)\n",
      "    (3): Dropout(p=0.5, inplace=False)\n",
      "    (4): Linear(in_features=4096, out_features=4096, bias=True)\n",
      "    (5): ReLU(inplace=True)\n",
      "    (fc): Linear(in_features=4096, out_features=2, bias=True)\n",
      "    (softmax): LogSoftmax(dim=None)\n",
      "  )\n",
      ")\n"
     ]
    }
   ],
   "source": [
    "# AlexNet\n",
    "net = models.alexnet(pretrained=True)\n",
    "new_classifier = nn.Sequential(*list(net.classifier.children())[:-1])\n",
    "new_classifier.add_module('fc',nn.Linear(4096,2))\n",
    "new_classifier.add_module('softmax',nn.LogSoftmax())\n",
    "net.classifier = new_classifier\n",
    "print(net)\n",
    "if use_gpu:\n",
    "    net = net.cuda()"
   ]
  },
  {
   "cell_type": "code",
   "execution_count": 10,
   "metadata": {},
   "outputs": [],
   "source": [
    "criterion = nn.NLLLoss() # Negative Log-Likelihood\n",
    "optimizer = optim.SGD(net.parameters(), lr=1e-4, momentum=0.9) # Stochastic gradient descent"
   ]
  },
  {
   "cell_type": "code",
   "execution_count": 11,
   "metadata": {},
   "outputs": [
    {
     "name": "stderr",
     "output_type": "stream",
     "text": [
      "C:\\Users\\charu\\anaconda3\\envs\\env_pytorch\\lib\\site-packages\\torch\\nn\\modules\\container.py:117: UserWarning: Implicit dimension choice for log_softmax has been deprecated. Change the call to include dim=X as an argument.\n",
      "  input = module(input)\n"
     ]
    },
    {
     "name": "stdout",
     "output_type": "stream",
     "text": [
      "At Iteration: 1 /30  ;  Training Loss: 0.025938 ; Testing Acc: 0.000 ; Time consumed: 0m 21s \n",
      "At Iteration: 2 /30  ;  Training Loss: 0.023931 ; Testing Acc: 38.333 ; Time consumed: 0m 17s \n",
      "At Iteration: 3 /30  ;  Training Loss: 0.019004 ; Testing Acc: 60.000 ; Time consumed: 0m 19s \n",
      "At Iteration: 4 /30  ;  Training Loss: 0.016310 ; Testing Acc: 53.333 ; Time consumed: 0m 19s \n",
      "At Iteration: 5 /30  ;  Training Loss: 0.014136 ; Testing Acc: 80.000 ; Time consumed: 0m 18s \n",
      "At Iteration: 6 /30  ;  Training Loss: 0.013045 ; Testing Acc: 61.667 ; Time consumed: 0m 17s \n",
      "At Iteration: 7 /30  ;  Training Loss: 0.011144 ; Testing Acc: 78.333 ; Time consumed: 0m 17s \n",
      "At Iteration: 8 /30  ;  Training Loss: 0.009917 ; Testing Acc: 70.000 ; Time consumed: 0m 16s \n",
      "At Iteration: 9 /30  ;  Training Loss: 0.009813 ; Testing Acc: 83.333 ; Time consumed: 0m 17s \n",
      "At Iteration: 10 /30  ;  Training Loss: 0.008850 ; Testing Acc: 73.333 ; Time consumed: 0m 16s \n",
      "At Iteration: 11 /30  ;  Training Loss: 0.007970 ; Testing Acc: 85.000 ; Time consumed: 0m 17s \n",
      "At Iteration: 12 /30  ;  Training Loss: 0.009109 ; Testing Acc: 81.667 ; Time consumed: 0m 16s \n",
      "At Iteration: 13 /30  ;  Training Loss: 0.006729 ; Testing Acc: 85.000 ; Time consumed: 0m 17s \n",
      "At Iteration: 14 /30  ;  Training Loss: 0.006394 ; Testing Acc: 81.667 ; Time consumed: 0m 17s \n",
      "At Iteration: 15 /30  ;  Training Loss: 0.006285 ; Testing Acc: 90.000 ; Time consumed: 0m 17s \n",
      "At Iteration: 16 /30  ;  Training Loss: 0.005472 ; Testing Acc: 81.667 ; Time consumed: 0m 15s \n",
      "At Iteration: 17 /30  ;  Training Loss: 0.005583 ; Testing Acc: 85.000 ; Time consumed: 0m 17s \n",
      "At Iteration: 18 /30  ;  Training Loss: 0.004843 ; Testing Acc: 83.333 ; Time consumed: 0m 16s \n",
      "At Iteration: 19 /30  ;  Training Loss: 0.004844 ; Testing Acc: 83.333 ; Time consumed: 0m 19s \n",
      "At Iteration: 20 /30  ;  Training Loss: 0.004579 ; Testing Acc: 83.333 ; Time consumed: 0m 18s \n",
      "At Iteration: 21 /30  ;  Training Loss: 0.006489 ; Testing Acc: 81.667 ; Time consumed: 0m 19s \n",
      "At Iteration: 22 /30  ;  Training Loss: 0.005783 ; Testing Acc: 85.000 ; Time consumed: 0m 17s \n",
      "At Iteration: 23 /30  ;  Training Loss: 0.003469 ; Testing Acc: 86.667 ; Time consumed: 0m 19s \n",
      "At Iteration: 24 /30  ;  Training Loss: 0.003762 ; Testing Acc: 86.667 ; Time consumed: 0m 18s \n",
      "At Iteration: 25 /30  ;  Training Loss: 0.003775 ; Testing Acc: 86.667 ; Time consumed: 0m 19s \n",
      "At Iteration: 26 /30  ;  Training Loss: 0.003034 ; Testing Acc: 85.000 ; Time consumed: 0m 18s \n",
      "At Iteration: 27 /30  ;  Training Loss: 0.003996 ; Testing Acc: 91.667 ; Time consumed: 0m 18s \n",
      "At Iteration: 28 /30  ;  Training Loss: 0.003660 ; Testing Acc: 85.000 ; Time consumed: 0m 18s \n",
      "At Iteration: 29 /30  ;  Training Loss: 0.003667 ; Testing Acc: 91.667 ; Time consumed: 0m 17s \n",
      "At Iteration: 30 /30  ;  Training Loss: 0.003368 ; Testing Acc: 85.000 ; Time consumed: 0m 17s \n",
      "Training completed in 8m 43s\n"
     ]
    },
    {
     "data": {
      "image/png": "[encoded data removed]",
      "text/plain": [
       "<Figure size 432x288 with 1 Axes>"
      ]
     },
     "metadata": {
      "needs_background": "light"
     },
     "output_type": "display_data"
    },
    {
     "data": {
      "image/png": "[encoded data removed]",
      "text/plain": [
       "<Figure size 432x288 with 1 Axes>"
      ]
     },
     "metadata": {
      "needs_background": "light"
     },
     "output_type": "display_data"
    }
   ],
   "source": [
    "iterations = 30\n",
    "trainLoss = []\n",
    "testAcc = []\n",
    "\n",
    "start = time.time()\n",
    "for epoch in range(iterations):\n",
    "    epochStart = time.time()\n",
    "    runningLoss = 0    \n",
    "    net.train(True) # For training\n",
    "    for data in trainLoader:\n",
    "        inputs,labels = data\n",
    "        # Wrap them in Variable\n",
    "        if use_gpu:\n",
    "            inputs, labels = Variable(inputs.float().cuda()), \\\n",
    "                Variable(labels.long().cuda())\n",
    "        else:\n",
    "            inputs, labels = Variable(inputs), Variable(labels.long()) \n",
    "        inputs = inputs/255.0\n",
    "        # Initialize gradients to zero\n",
    "        optimizer.zero_grad()\n",
    "        # Feed-forward input data through the network\n",
    "        outputs = net(inputs)\n",
    "        # Compute loss/error\n",
    "        loss = criterion(outputs, labels)        \n",
    "        # Backpropagate loss and compute gradients\n",
    "        loss.backward()\n",
    "        # Update the network parameters\n",
    "        optimizer.step()\n",
    "        # Accumulate loss per batch\n",
    "        runningLoss += loss.detach()    \n",
    "    avgTrainLoss = runningLoss/200\n",
    "    trainLoss.append(avgTrainLoss)\n",
    "    # Evaluating performance on test set for each epoch\n",
    "    net.train(False) # For testing\n",
    "    inputs = TestImages/255\n",
    "    if use_gpu:\n",
    "        inputs = Variable(inputs.cuda())\n",
    "        outputs = net(inputs)\n",
    "        _, predicted = torch.max(outputs.data, 1)\n",
    "        predicted = predicted.cpu()\n",
    "    else:\n",
    "        inputs = Variable(inputs)\n",
    "        outputs = net(inputs)\n",
    "        _, predicted = torch.max(outputs.data, 1)\n",
    "    correct = 0\n",
    "    total = 0\n",
    "    total += TestLabels.size(0)\n",
    "    correct += (predicted == TestLabels).sum()\n",
    "    avgTestAcc = correct/60.0\n",
    "    testAcc.append(avgTestAcc)\n",
    "        \n",
    "    # Plotting Loss vs Epochs\n",
    "    fig1 = plt.figure(1)        \n",
    "    plt.plot(range(epoch+1),trainLoss,'r--',label='train')        \n",
    "    if epoch==0:\n",
    "        plt.legend(loc='upper left')\n",
    "        plt.xlabel('Epochs')\n",
    "        plt.ylabel('Loss')    \n",
    "    # Plotting testing accuracy vs Epochs\n",
    "    fig2 = plt.figure(2)        \n",
    "    plt.plot(range(epoch+1),testAcc,'g-',label='test')        \n",
    "    if epoch==0:\n",
    "        plt.legend(loc='upper left')\n",
    "        plt.xlabel('Epochs')\n",
    "        plt.ylabel('Testing accuracy')    \n",
    "    epochEnd = time.time()-epochStart\n",
    "    print('At Iteration: {:.0f} /{:.0f}  ;  Training Loss: {:.6f} ; Testing Acc: {:.3f} ; Time consumed: {:.0f}m {:.0f}s '\\\n",
    "          .format(epoch + 1,iterations,avgTrainLoss,avgTestAcc*100,epochEnd//60,epochEnd%60))\n",
    "end = time.time()-start\n",
    "print('Training completed in {:.0f}m {:.0f}s'.format(end//60,end%60))"
   ]
  }
 ],
 "metadata": {
  "kernelspec": {
   "display_name": "Python 3",
   "language": "python",
   "name": "python3"
  },
  "language_info": {
   "codemirror_mode": {
    "name": "ipython",
    "version": 3
   },
   "file_extension": ".py",
   "mimetype": "text/x-python",
   "name": "python",
   "nbconvert_exporter": "python",
   "pygments_lexer": "ipython3",
   "version": "3.8.3"
  }
 },
 "nbformat": 4,
 "nbformat_minor": 4
}
